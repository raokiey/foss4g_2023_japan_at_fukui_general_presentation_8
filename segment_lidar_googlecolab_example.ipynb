{
  "nbformat": 4,
  "nbformat_minor": 0,
  "metadata": {
    "colab": {
      "provenance": [],
      "machine_shape": "hm",
      "gpuType": "V100",
      "collapsed_sections": [
        "6AGjiXRU5--t"
      ],
      "authorship_tag": "ABX9TyN2nQ16ZErGdyQHF4ydgNJC",
      "include_colab_link": true
    },
    "kernelspec": {
      "name": "python3",
      "display_name": "Python 3"
    },
    "language_info": {
      "name": "python"
    },
    "accelerator": "GPU"
  },
  "cells": [
    {
      "cell_type": "markdown",
      "metadata": {
        "id": "view-in-github",
        "colab_type": "text"
      },
      "source": [
        "<a href=\"https://colab.research.google.com/github/raokiey/foss4g_2023_japan_at_fukui_general_presentation_8/blob/main/segment_lidar_googlecolab_example.ipynb\" target=\"_parent\"><img src=\"https://colab.research.google.com/assets/colab-badge.svg\" alt=\"Open In Colab\"/></a>"
      ]
    },
    {
      "cell_type": "markdown",
      "source": [
        "# Segment Anything Modelを3次元点群データに適用してみた例"
      ],
      "metadata": {
        "id": "5aiqRBWdjETN"
      }
    },
    {
      "cell_type": "markdown",
      "source": [
        "## このノートブックについて  \n",
        "FOSS4G 2023 Japan@FUKUI コアデイ 一般発表8「Segment Anything Modelを\n",
        "用いて地物抽出を試してみた」のスライド中に掲載している例を作成するために使用したノートブックです。  \n",
        "このノートブックでは、3次元点群データに対して判読を行っています。  \n",
        "`point_cloud_path`変数に判読したい3次元点群データ（lasもしくはlaz形式）のパスを設定することで、他のデータに対しても実行できます。  "
      ],
      "metadata": {
        "id": "XeFphRmz5Hv6"
      }
    },
    {
      "cell_type": "markdown",
      "source": [
        "## セットアップ  \n",
        "Segment Anything Modelを3次元点群データに対して動かせるように環境構築などを行っています。  \n",
        "使用したライブラリは以下の通りです。  \n",
        "- segment-lidar\n",
        "- cloth-simulation-filter"
      ],
      "metadata": {
        "id": "6AGjiXRU5--t"
      }
    },
    {
      "cell_type": "code",
      "source": [
        "!pip install cloth-simulation-filter\n",
        "!pip install segment-lidar"
      ],
      "metadata": {
        "id": "MV-zrmmJ5-QY"
      },
      "execution_count": null,
      "outputs": []
    },
    {
      "cell_type": "code",
      "source": [
        "# サンプルで使用する3次元点群データのダウンロード\n",
        "!wget -O ./sample_data/08NE3821.laz https://raokiey.github.io/foss4g_2023_japan_at_fukui_general_presentation_8/data/08NE3821.laz"
      ],
      "metadata": {
        "id": "V-fJL9rVwfAd"
      },
      "execution_count": null,
      "outputs": []
    },
    {
      "cell_type": "code",
      "source": [
        "from segment_lidar import samlidar"
      ],
      "metadata": {
        "id": "yu2LzwpT5E7X"
      },
      "execution_count": null,
      "outputs": []
    },
    {
      "cell_type": "markdown",
      "source": [
        "## 3次元点群データへの適用例\n",
        "\n",
        "サンプルの3次元点群データ（laz形式）として、以下のものを使用しています。  \n",
        "- 静岡県「[VIRTUAL SHIZUOKA 静岡県 富士山南東部・伊豆東部 点群データ LPデータ　ダウンロードページ](https://www.geospatial.jp/ckan/dataset/shizuoka-2019-pointcloud/resource/d5e98a7b-f15c-45b0-bf40-0287f5b1de68)」  \n",
        "08NE3821"
      ],
      "metadata": {
        "id": "34uc8nsrbt6p"
      }
    },
    {
      "cell_type": "code",
      "source": [
        "# segment-lidarを初期化、使用するSAMの重みをロード\n",
        "model = samlidar.SamLidar(ckpt_path='sam_vit_h_4b8939.pth')"
      ],
      "metadata": {
        "id": "FGdmWPEg7OB-"
      },
      "execution_count": null,
      "outputs": []
    },
    {
      "cell_type": "code",
      "source": [
        "# laz形式の3次元点群データをモデルに読み込む\n",
        "point_cloud_path = './sample_data/08NE3821.laz'\n",
        "points = model.read(point_cloud_path)"
      ],
      "metadata": {
        "id": "cCXQVwbz78gR"
      },
      "execution_count": null,
      "outputs": []
    },
    {
      "cell_type": "code",
      "source": [
        " #CSF(Cloth Simulation Filter)アルゴリズムを用いて、地面をフィルタリング\n",
        "cloud, non_ground, ground = model.csf(points)"
      ],
      "metadata": {
        "id": "ufsWWgNn8PPo"
      },
      "execution_count": null,
      "outputs": []
    },
    {
      "cell_type": "code",
      "source": [
        "# 3次元点群データに対して、セグメンテーションを実行\n",
        "labels, *_ = model.segment(points=cloud, image_path=\"raster.tif\", labels_path=\"labeled.tif\")"
      ],
      "metadata": {
        "id": "zdK0NVK48Z5J"
      },
      "execution_count": null,
      "outputs": []
    },
    {
      "cell_type": "code",
      "source": [
        "# 判読結果を指定のパスに保存\n",
        "save_path = './08NE3821_segmented.las'\n",
        "model.write(points=points, non_ground=non_ground, ground=ground, segment_ids=labels, save_path=save_path)"
      ],
      "metadata": {
        "id": "_QXmEW0m9Pic"
      },
      "execution_count": null,
      "outputs": []
    },
    {
      "cell_type": "markdown",
      "source": [
        "## セグメンテーション結果の表示\n",
        "`lted point`という名前のスカラーフィールドに結果は格納されています。  \n",
        "セグメンテーション結果の可視化は[CloudCompare](https://www.danielgm.net/cc/)というソフトウェアをsegment-lidarのドキュメントで推奨しています。"
      ],
      "metadata": {
        "id": "BVem4Mo7griX"
      }
    }
  ]
}